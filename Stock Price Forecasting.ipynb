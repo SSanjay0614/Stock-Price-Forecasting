{
 "cells": [
  {
   "cell_type": "code",
   "execution_count": 1,
   "id": "8c5a07b0",
   "metadata": {},
   "outputs": [
    {
     "name": "stdout",
     "output_type": "stream",
     "text": [
      "Requirement already satisfied: yfinance in c:\\users\\ssanj\\anaconda3\\lib\\site-packages (0.2.48)\n",
      "Requirement already satisfied: pandas in c:\\users\\ssanj\\anaconda3\\lib\\site-packages (2.2.3)\n",
      "Requirement already satisfied: ta in c:\\users\\ssanj\\anaconda3\\lib\\site-packages (0.11.0)\n",
      "Requirement already satisfied: statsmodels in c:\\users\\ssanj\\anaconda3\\lib\\site-packages (0.14.0)\n",
      "Requirement already satisfied: numpy>=1.16.5 in c:\\users\\ssanj\\anaconda3\\lib\\site-packages (from yfinance) (1.26.4)\n",
      "Requirement already satisfied: requests>=2.31 in c:\\users\\ssanj\\anaconda3\\lib\\site-packages (from yfinance) (2.31.0)\n",
      "Requirement already satisfied: multitasking>=0.0.7 in c:\\users\\ssanj\\anaconda3\\lib\\site-packages (from yfinance) (0.0.11)\n",
      "Requirement already satisfied: lxml>=4.9.1 in c:\\users\\ssanj\\anaconda3\\lib\\site-packages (from yfinance) (4.9.3)\n",
      "Requirement already satisfied: platformdirs>=2.0.0 in c:\\users\\ssanj\\anaconda3\\lib\\site-packages (from yfinance) (3.10.0)\n",
      "Requirement already satisfied: pytz>=2022.5 in c:\\users\\ssanj\\anaconda3\\lib\\site-packages (from yfinance) (2023.3.post1)\n",
      "Requirement already satisfied: frozendict>=2.3.4 in c:\\users\\ssanj\\anaconda3\\lib\\site-packages (from yfinance) (2.4.6)\n",
      "Requirement already satisfied: peewee>=3.16.2 in c:\\users\\ssanj\\anaconda3\\lib\\site-packages (from yfinance) (3.17.7)\n",
      "Requirement already satisfied: beautifulsoup4>=4.11.1 in c:\\users\\ssanj\\anaconda3\\lib\\site-packages (from yfinance) (4.12.2)\n",
      "Requirement already satisfied: html5lib>=1.1 in c:\\users\\ssanj\\anaconda3\\lib\\site-packages (from yfinance) (1.1)\n",
      "Requirement already satisfied: python-dateutil>=2.8.2 in c:\\users\\ssanj\\anaconda3\\lib\\site-packages (from pandas) (2.8.2)\n",
      "Requirement already satisfied: tzdata>=2022.7 in c:\\users\\ssanj\\anaconda3\\lib\\site-packages (from pandas) (2023.3)\n",
      "Requirement already satisfied: scipy!=1.9.2,>=1.4 in c:\\users\\ssanj\\anaconda3\\lib\\site-packages (from statsmodels) (1.11.1)\n",
      "Requirement already satisfied: patsy>=0.5.2 in c:\\users\\ssanj\\anaconda3\\lib\\site-packages (from statsmodels) (0.5.3)\n",
      "Requirement already satisfied: packaging>=21.3 in c:\\users\\ssanj\\anaconda3\\lib\\site-packages (from statsmodels) (23.2)\n",
      "Requirement already satisfied: soupsieve>1.2 in c:\\users\\ssanj\\anaconda3\\lib\\site-packages (from beautifulsoup4>=4.11.1->yfinance) (2.4)\n",
      "Requirement already satisfied: six>=1.9 in c:\\users\\ssanj\\anaconda3\\lib\\site-packages (from html5lib>=1.1->yfinance) (1.16.0)\n",
      "Requirement already satisfied: webencodings in c:\\users\\ssanj\\anaconda3\\lib\\site-packages (from html5lib>=1.1->yfinance) (0.5.1)\n",
      "Requirement already satisfied: charset-normalizer<4,>=2 in c:\\users\\ssanj\\anaconda3\\lib\\site-packages (from requests>=2.31->yfinance) (3.3.2)\n",
      "Requirement already satisfied: idna<4,>=2.5 in c:\\users\\ssanj\\anaconda3\\lib\\site-packages (from requests>=2.31->yfinance) (3.4)\n",
      "Requirement already satisfied: urllib3<3,>=1.21.1 in c:\\users\\ssanj\\anaconda3\\lib\\site-packages (from requests>=2.31->yfinance) (2.2.3)\n",
      "Requirement already satisfied: certifi>=2017.4.17 in c:\\users\\ssanj\\anaconda3\\lib\\site-packages (from requests>=2.31->yfinance) (2023.11.17)\n"
     ]
    },
    {
     "name": "stderr",
     "output_type": "stream",
     "text": [
      "C:\\Users\\ssanj\\anaconda3\\Lib\\site-packages\\pandas\\core\\arrays\\masked.py:60: UserWarning: Pandas requires version '1.3.6' or newer of 'bottleneck' (version '1.3.5' currently installed).\n",
      "  from pandas.core import (\n"
     ]
    }
   ],
   "source": [
    "#Installing and Importing the necessary python libraries\n",
    "!pip install yfinance pandas ta statsmodels\n",
    "from statsmodels.tsa.arima.model import ARIMA\n",
    "import yfinance as yf\n",
    "import pandas as pd\n",
    "import ta\n",
    "import numpy as np\n",
    "import itertools\n",
    "import warnings\n",
    "warnings.filterwarnings(\"ignore\")"
   ]
  },
  {
   "cell_type": "code",
   "execution_count": 3,
   "id": "65e3d031",
   "metadata": {},
   "outputs": [
    {
     "name": "stderr",
     "output_type": "stream",
     "text": [
      "[*********************100%***********************]  1 of 1 completed\n"
     ]
    }
   ],
   "source": [
    "# Fetching the data\n",
    "data = yf.download(\"EURINR=X\", start=\"2023-01-01\", end=\"2024-09-30\")"
   ]
  },
  {
   "cell_type": "code",
   "execution_count": 5,
   "id": "e507719a",
   "metadata": {},
   "outputs": [],
   "source": [
    "# Data Preprocessing - Filling null values\n",
    "data['Close'].fillna(method='ffill', inplace=True)\n",
    "data['High'].fillna(method='ffill', inplace=True)\n",
    "data['Low'].fillna(method='ffill', inplace=True)"
   ]
  },
  {
   "cell_type": "code",
   "execution_count": 6,
   "id": "16e27ba2",
   "metadata": {},
   "outputs": [],
   "source": [
    "# Handling multi-index\n",
    "if isinstance(data.columns, pd.MultiIndex):\n",
    "    data.columns = [' '.join(col).strip() for col in data.columns.values]"
   ]
  },
  {
   "cell_type": "code",
   "execution_count": 8,
   "id": "64616612",
   "metadata": {},
   "outputs": [],
   "source": [
    "# Changing datatype from object to numeric\n",
    "data['Close EURINR=X'] = pd.to_numeric(data['Close EURINR=X'], errors='coerce')"
   ]
  },
  {
   "cell_type": "code",
   "execution_count": 15,
   "id": "be106b9e",
   "metadata": {},
   "outputs": [],
   "source": [
    "# Finding the best arima model parameters\n",
    "def best_arima_parameters(data, p_range, d_range, q_range):\n",
    "    best_aic = float(\"inf\")\n",
    "    best_order = None\n",
    "    \n",
    "    # Iterate over all combinations of (p, d, q)\n",
    "    for p, d, q in itertools.product(p_range, d_range, q_range):\n",
    "        try:\n",
    "            model = ARIMA(data['Close EURINR=X'], order=(p, d, q))\n",
    "            model_fit = model.fit()\n",
    "            aic = model_fit.aic\n",
    "            \n",
    "            # Check if the current model is better\n",
    "            if aic < best_aic:\n",
    "                best_aic = aic\n",
    "                best_order = (p, d, q)\n",
    "                \n",
    "        except:\n",
    "            continue\n",
    "\n",
    "    return best_order\n"
   ]
  },
  {
   "cell_type": "code",
   "execution_count": 16,
   "id": "e1b25e71",
   "metadata": {},
   "outputs": [],
   "source": [
    "p = range(0, 10) \n",
    "d = range(0, 10)  \n",
    "q = range(0, 10)  \n",
    "\n",
    "best_order = best_arima_parameters(data, p, d, q)"
   ]
  },
  {
   "cell_type": "code",
   "execution_count": 36,
   "id": "9d4e46dd",
   "metadata": {},
   "outputs": [],
   "source": [
    "# Function for using arima model\n",
    "def fit_arima_and_forecast(data, steps):\n",
    "    \n",
    "    # Fit the ARIMA model with best parameters\n",
    "    model = ARIMA(data, order=best_order)\n",
    "    model_fit = model.fit()\n",
    "    \n",
    "    # Forecast future values\n",
    "    forecast = model_fit.forecast(steps=steps)\n",
    "    \n",
    "    return forecast"
   ]
  },
  {
   "cell_type": "code",
   "execution_count": 39,
   "id": "70521c0d",
   "metadata": {},
   "outputs": [
    {
     "name": "stdout",
     "output_type": "stream",
     "text": [
      "Forecasted Close value for one day: 92.87886363366897\n",
      "Forecasted High value for one day: 93.88088877277944\n",
      "Forecasted Low value for one day: 92.31258404980395\n",
      "Forecasted Close values for one week:\n",
      "2024-09-30 00:00:00+00:00    92.878864\n",
      "2024-10-01 00:00:00+00:00    92.898500\n",
      "2024-10-02 00:00:00+00:00    92.168947\n",
      "2024-10-03 00:00:00+00:00    91.384625\n",
      "2024-10-04 00:00:00+00:00    90.138226\n",
      "2024-10-07 00:00:00+00:00    88.316369\n",
      "2024-10-08 00:00:00+00:00    86.095782\n",
      "Freq: B, Name: predicted_mean, dtype: float64\n",
      "Forecasted High values for one week:\n",
      "2024-09-30 00:00:00+00:00    93.880889\n",
      "2024-10-01 00:00:00+00:00    94.016557\n",
      "2024-10-02 00:00:00+00:00    94.092128\n",
      "2024-10-03 00:00:00+00:00    94.419058\n",
      "2024-10-04 00:00:00+00:00    94.624010\n",
      "2024-10-07 00:00:00+00:00    94.747776\n",
      "2024-10-08 00:00:00+00:00    95.095151\n",
      "Freq: B, Name: predicted_mean, dtype: float64\n",
      "Forecasted Low values for one week:\n",
      "2024-09-30 00:00:00+00:00    92.312584\n",
      "2024-10-01 00:00:00+00:00    92.533786\n",
      "2024-10-02 00:00:00+00:00    92.031325\n",
      "2024-10-03 00:00:00+00:00    91.295902\n",
      "2024-10-04 00:00:00+00:00    90.855094\n",
      "2024-10-07 00:00:00+00:00    89.490407\n",
      "2024-10-08 00:00:00+00:00    88.932765\n",
      "Freq: B, Name: predicted_mean, dtype: float64\n"
     ]
    }
   ],
   "source": [
    "# Forecasting for one day and one week\n",
    "close_data = data['Close EURINR=X']\n",
    "high_data = data['High EURINR=X']\n",
    "low_data = data['Low EURINR=X']\n",
    "\n",
    "# Forecast for one day\n",
    "forecast_one_day_close = fit_arima_and_forecast(close_data, steps=1)\n",
    "print(f\"Forecasted Close value for one day: {forecast_one_day_close[0]}\")\n",
    "\n",
    "forecast_one_day_high = fit_arima_and_forecast(high_data, steps=1)\n",
    "print(f\"Forecasted High value for one day: {forecast_one_day_high[0]}\")\n",
    "\n",
    "forecast_one_day_low = fit_arima_and_forecast(low_data, steps=1)\n",
    "print(f\"Forecasted Low value for one day: {forecast_one_day_low[0]}\")\n",
    "\n",
    "# Forecast for one week (7 days)\n",
    "forecast_one_week_close = fit_arima_and_forecast(close_data, steps=7)\n",
    "print(\"Forecasted Close values for one week:\")\n",
    "print(forecast_one_week_close)\n",
    "\n",
    "forecast_one_week_high = fit_arima_and_forecast(high_data, steps=7)\n",
    "print(\"Forecasted High values for one week:\")\n",
    "print(forecast_one_week_high)\n",
    "\n",
    "forecast_one_week_low = fit_arima_and_forecast(low_data, steps=7)\n",
    "print(\"Forecasted Low values for one week:\")\n",
    "print(forecast_one_week_low)\n"
   ]
  },
  {
   "cell_type": "code",
   "execution_count": 40,
   "id": "4a67c755",
   "metadata": {},
   "outputs": [
    {
     "name": "stdout",
     "output_type": "stream",
     "text": [
      "One Day Forecasted Values:\n",
      "       Close       High        Low\n",
      "0  92.878864  93.880889  92.312584\n",
      "\n",
      "One Week Forecasted Values:\n",
      "                               Close       High        Low\n",
      "2024-09-30 00:00:00+00:00  92.878864  93.880889  92.312584\n",
      "2024-10-01 00:00:00+00:00  92.898500  94.016557  92.533786\n",
      "2024-10-02 00:00:00+00:00  92.168947  94.092128  92.031325\n",
      "2024-10-03 00:00:00+00:00  91.384625  94.419058  91.295902\n",
      "2024-10-04 00:00:00+00:00  90.138226  94.624010  90.855094\n",
      "2024-10-07 00:00:00+00:00  88.316369  94.747776  89.490407\n",
      "2024-10-08 00:00:00+00:00  86.095782  95.095151  88.932765\n"
     ]
    }
   ],
   "source": [
    "\n",
    "# Create DataFrames for the one-day forecasted values\n",
    "one_day_forecast = pd.DataFrame({\n",
    "    'Close': [forecast_one_day_close[0]],\n",
    "    'High': [forecast_one_day_high[0]],\n",
    "    'Low': [forecast_one_day_low[0]]\n",
    "})\n",
    "\n",
    "# Create DataFrames for the one-week forecasted values\n",
    "one_week_forecast = pd.DataFrame({\n",
    "    'Close': forecast_one_week_close,\n",
    "    'High': forecast_one_week_high,\n",
    "    'Low': forecast_one_week_low\n",
    "})\n",
    "\n",
    "print(\"One Day Forecasted Values:\")\n",
    "print(one_day_forecast)\n",
    "\n",
    "print(\"\\nOne Week Forecasted Values:\")\n",
    "print(one_week_forecast)\n"
   ]
  },
  {
   "cell_type": "code",
   "execution_count": 43,
   "id": "ee7a2907",
   "metadata": {},
   "outputs": [
    {
     "name": "stdout",
     "output_type": "stream",
     "text": [
      "Metrics for One Day Forecast:\n",
      "Forecasted Close Value: 92.87886363366897\n",
      "Moving Average: 92.87886363366897\n",
      "Bollinger Bands: Upper = 92.87886363366897, Lower = 92.87886363366897\n",
      "Typical Price: 93.02411215208411\n",
      "MAD (Mean Absolute Deviation): 0.0\n",
      "CCI: 0\n",
      "\n",
      "Metrics for One Week Forecast:\n",
      "Forecasted Close Values: 2024-09-30 00:00:00+00:00    92.878864\n",
      "2024-10-01 00:00:00+00:00    92.898500\n",
      "2024-10-02 00:00:00+00:00    92.168947\n",
      "2024-10-03 00:00:00+00:00    91.384625\n",
      "2024-10-04 00:00:00+00:00    90.138226\n",
      "2024-10-07 00:00:00+00:00    88.316369\n",
      "2024-10-08 00:00:00+00:00    86.095782\n",
      "Freq: B, Name: predicted_mean, dtype: float64\n",
      "Moving Average: 90.55447314018576\n",
      "Bollinger Bands: Upper = 95.29066993955193, Lower = 85.8182763408196\n",
      "Typical Price: 2024-09-30 00:00:00+00:00    93.024112\n",
      "2024-10-01 00:00:00+00:00    93.149614\n",
      "2024-10-02 00:00:00+00:00    92.764133\n",
      "2024-10-03 00:00:00+00:00    92.366528\n",
      "2024-10-04 00:00:00+00:00    91.872444\n",
      "2024-10-07 00:00:00+00:00    90.851517\n",
      "2024-10-08 00:00:00+00:00    90.041232\n",
      "Freq: B, Name: predicted_mean, dtype: float64\n",
      "MAD (Mean Absolute Deviation): 0.932750602705929\n",
      "CCI: 2024-09-30 00:00:00+00:00     72.486112\n",
      "2024-10-01 00:00:00+00:00     81.456145\n",
      "2024-10-02 00:00:00+00:00     53.904599\n",
      "2024-10-03 00:00:00+00:00     25.486478\n",
      "2024-10-04 00:00:00+00:00     -9.827326\n",
      "2024-10-07 00:00:00+00:00    -82.796172\n",
      "2024-10-08 00:00:00+00:00   -140.709835\n",
      "Freq: B, Name: predicted_mean, dtype: float64\n"
     ]
    }
   ],
   "source": [
    "# Calculating metrics\n",
    "\n",
    "# Calculate Moving Average\n",
    "moving_average_one_day = np.mean([forecast_one_day_close[0]])  # Only one value for one day\n",
    "moving_average_one_week = np.mean(forecast_one_week_close)\n",
    "\n",
    "# Calculate Bollinger Bands\n",
    "std_dev_one_day = np.std([forecast_one_day_close[0]])  # Standard deviation for one value\n",
    "std_dev_one_week = np.std(forecast_one_week_close)\n",
    "\n",
    "upper_band_one_day = moving_average_one_day + (std_dev_one_day * 2)\n",
    "lower_band_one_day = moving_average_one_day - (std_dev_one_day * 2)\n",
    "\n",
    "upper_band_one_week = moving_average_one_week + (std_dev_one_week * 2)\n",
    "lower_band_one_week = moving_average_one_week - (std_dev_one_week * 2)\n",
    "\n",
    "# Calculate CCI\n",
    "# For one-day CCI, using typical price approximation (only one value)\n",
    "typical_price_one_day = (forecast_one_day_close[0] + forecast_one_day_high[0] + forecast_one_day_low[0]) / 3\n",
    "\n",
    "# For one-week CCI, using the average typical price over the week\n",
    "typical_price_one_week = (forecast_one_week_close + forecast_one_week_high + forecast_one_week_low) / 3  # Simplified for average over week\n",
    "\n",
    "# Assuming we can only compute CCI for one week based on typical price\n",
    "sma_one_week = np.mean(typical_price_one_week)  # Simple Moving Average\n",
    "mad_one_week = np.mean(np.abs(typical_price_one_week - sma_one_week))  # Mean Absolute Deviation\n",
    "cci_one_week = (typical_price_one_week - sma_one_week) / (0.015 * mad_one_week) if mad_one_week != 0 else 0\n",
    "\n",
    "# For one-day CCI\n",
    "sma_one_day = typical_price_one_day  # Simple Moving Average for one day\n",
    "mad_one_day = np.abs(typical_price_one_day - sma_one_day)  # Mean Absolute Deviation for one day\n",
    "cci_one_day = (typical_price_one_day - sma_one_day) / (0.015 * mad_one_day) if mad_one_day != 0 else 0\n",
    "\n",
    "# Print Results\n",
    "print(\"Metrics for One Day Forecast:\")\n",
    "print(f\"Forecasted Close Value: {forecast_one_day_close[0]}\")\n",
    "print(f\"Moving Average: {moving_average_one_day}\")\n",
    "print(f\"Bollinger Bands: Upper = {upper_band_one_day}, Lower = {lower_band_one_day}\")\n",
    "print(f\"Typical Price: {typical_price_one_day}\")\n",
    "print(f\"MAD (Mean Absolute Deviation): {mad_one_day}\")\n",
    "print(f\"CCI: {cci_one_day}\")\n",
    "\n",
    "print(\"\\nMetrics for One Week Forecast:\")\n",
    "print(f\"Forecasted Close Values: {forecast_one_week_close}\")\n",
    "print(f\"Moving Average: {moving_average_one_week}\")\n",
    "print(f\"Bollinger Bands: Upper = {upper_band_one_week}, Lower = {lower_band_one_week}\")\n",
    "print(f\"Typical Price: {typical_price_one_week}\")\n",
    "print(f\"MAD (Mean Absolute Deviation): {mad_one_week}\")\n",
    "print(f\"CCI: {cci_one_week}\")\n"
   ]
  },
  {
   "cell_type": "code",
   "execution_count": 46,
   "id": "4420b665",
   "metadata": {},
   "outputs": [],
   "source": [
    "# Decision Making Function\n",
    "def make_decision(close_price, ma, bollinger_upper, bollinger_lower, cci):\n",
    "    decision = []\n",
    "    \n",
    "    # Check for one-day forecast\n",
    "    if close_price > ma:\n",
    "        decision.append('BUY')\n",
    "    elif close_price < ma:\n",
    "        decision.append('SELL')\n",
    "    \n",
    "    if close_price > bollinger_upper:\n",
    "        decision.append('SELL')\n",
    "    elif close_price < bollinger_lower:\n",
    "        decision.append('BUY')\n",
    "    \n",
    "    if cci > 100:\n",
    "        decision.append('SELL')\n",
    "    elif cci < -100:\n",
    "        decision.append('BUY')\n",
    "    else:\n",
    "        decision.append('NEUTRAL')\n",
    "    \n",
    "    # Aggregate decision based on the majority\n",
    "    if decision.count('BUY') > decision.count('SELL'):\n",
    "        return 'BUY'\n",
    "    elif decision.count('SELL') > decision.count('BUY'):\n",
    "        return 'SELL'\n",
    "    else:\n",
    "        return 'NEUTRAL'\n",
    "\n"
   ]
  },
  {
   "cell_type": "code",
   "execution_count": 58,
   "id": "d7f3b3b1",
   "metadata": {},
   "outputs": [
    {
     "name": "stdout",
     "output_type": "stream",
     "text": [
      "Decision for one-day forecast: NEUTRAL\n",
      "Decision for one-week forecast: NEUTRAL\n"
     ]
    }
   ],
   "source": [
    "# Extract scalar values for CCI\n",
    "cci_one_week_value = cci_one_week.iloc[-1]  \n",
    "cci_one_day_value = cci_one_day  \n",
    "\n",
    "# Extract scalar values from the Series for one day\n",
    "moving_average_one_day_value = moving_average_one_day.iloc[0]  \n",
    "upper_band_one_day_value = upper_band_one_day.iloc[0]  \n",
    "lower_band_one_day_value = lower_band_one_day.iloc[0]  \n",
    "\n",
    "# Extract scalar values for one week\n",
    "moving_average_one_week_value = moving_average_one_week.iloc[-1]  \n",
    "upper_band_one_week_value = upper_band_one_week.iloc[-1]  \n",
    "lower_band_one_week_value = lower_band_one_week.iloc[-1]  \n",
    "\n",
    "# Make decisions for one day\n",
    "one_day_decision = make_decision(\n",
    "    close_price=forecast_one_day_close[0],\n",
    "    ma=moving_average_one_day_value,\n",
    "    bollinger_upper=upper_band_one_day_value,\n",
    "    bollinger_lower=lower_band_one_day_value,\n",
    "    cci=cci_one_day_value\n",
    ")\n",
    "\n",
    "print(f\"Decision for one-day forecast: {one_day_decision}\")\n",
    "\n",
    "# Make decisions for one week\n",
    "one_week_decision = make_decision(\n",
    "    close_price=forecast_one_week_close[-1],\n",
    "    ma=moving_average_one_week_value,\n",
    "    bollinger_upper=upper_band_one_week_value,\n",
    "    bollinger_lower=lower_band_one_week_value,\n",
    "    cci=cci_one_week_value.iloc[-1]\n",
    ")\n",
    "\n",
    "print(f\"Decision for one-week forecast: {one_week_decision}\")\n"
   ]
  },
  {
   "cell_type": "code",
   "execution_count": 69,
   "id": "5e2e4f5a",
   "metadata": {},
   "outputs": [
    {
     "data": {
      "image/png": "[encoded data removed]",
      "text/plain": [
       "<Figure size 1000x600 with 1 Axes>"
      ]
     },
     "metadata": {},
     "output_type": "display_data"
    }
   ],
   "source": [
    "import matplotlib.pyplot as plt\n",
    "import numpy as np\n",
    "\n",
    "# Data for plotting\n",
    "forecast_one_day_close = 92.878864\n",
    "moving_average_one_day = 92.878864\n",
    "upper_band_one_day = 92.878864\n",
    "lower_band_one_day = 92.878864\n",
    "cci_one_day = 0\n",
    "\n",
    "# Updated Decision rule for one-day prediction\n",
    "one_day_decision_updated = {\n",
    "    \"MA Decision\": \"Neutral\",\n",
    "    \"BB Decision\": \"Neutral\",\n",
    "    \"CCI Decision\": \"Neutral\"\n",
    "}\n",
    "\n",
    "# One-Day Forecast Graph with Updated Decision Annotations and Increased Spacing\n",
    "plt.figure(figsize=(10, 6))\n",
    "plt.plot(['One Day'], [forecast_one_day_close], 'o-', label=\"Forecasted Close\", color='blue')\n",
    "plt.plot(['One Day'], [moving_average_one_day], 'x-', label=\"Moving Average\", color='orange')\n",
    "plt.plot(['One Day'], [upper_band_one_day], 'v-', label=\"Bollinger Upper Band\", color='green')\n",
    "plt.plot(['One Day'], [lower_band_one_day], '^-', label=\"Bollinger Lower Band\", color='red')\n",
    "plt.plot(['One Day'], [cci_one_day], 's-', label=\"CCI\", color='purple')\n",
    "\n",
    "# Adding Decisions as text annotations with increased spacing for clarity\n",
    "plt.text(0, forecast_one_day_close + 3, f\"MA Decision: {one_day_decision_updated['MA Decision']}\", color='blue', fontsize=12)\n",
    "plt.text(0, forecast_one_day_close - 3, f\"BB Decision: {one_day_decision_updated['BB Decision']}\", color='green', fontsize=12)\n",
    "plt.text(0, forecast_one_day_close - 7, f\"CCI Decision: {one_day_decision_updated['CCI Decision']}\", color='purple', fontsize=12)\n",
    "\n",
    "plt.title(\"One Day Forecast - Metrics and Decisions\")\n",
    "plt.legend()\n",
    "plt.grid(True)\n",
    "plt.savefig(\"one_day_forecast_spaced_decisions_graph.png\")  # Save graph\n",
    "plt.show()\n"
   ]
  },
  {
   "cell_type": "code",
   "execution_count": null,
   "id": "169216ca",
   "metadata": {},
   "outputs": [],
   "source": []
  }
 ],
 "metadata": {
  "kernelspec": {
   "display_name": "Python 3 (ipykernel)",
   "language": "python",
   "name": "python3"
  },
  "language_info": {
   "codemirror_mode": {
    "name": "ipython",
    "version": 3
   },
   "file_extension": ".py",
   "mimetype": "text/x-python",
   "name": "python",
   "nbconvert_exporter": "python",
   "pygments_lexer": "ipython3",
   "version": "3.11.5"
  }
 },
 "nbformat": 4,
 "nbformat_minor": 5
}
